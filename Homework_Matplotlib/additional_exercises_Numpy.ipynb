{
 "cells": [
  {
   "cell_type": "code",
   "execution_count": 1,
   "metadata": {},
   "outputs": [],
   "source": [
    "import numpy as np"
   ]
  },
  {
   "cell_type": "markdown",
   "metadata": {},
   "source": [
    "Создать одномерный массив Numpy под названием a из 12 последовательных целых чисел чисел от 12 до 24 невключительно"
   ]
  },
  {
   "cell_type": "code",
   "execution_count": 2,
   "metadata": {},
   "outputs": [],
   "source": [
    "a = np.arange(12, 24)"
   ]
  },
  {
   "cell_type": "markdown",
   "metadata": {},
   "source": [
    "Создать 5 двумерных массивов разной формы из массива a. Не использовать в аргументах метода reshape число -1."
   ]
  },
  {
   "cell_type": "code",
   "execution_count": 3,
   "metadata": {},
   "outputs": [],
   "source": [
    "a_1 = a.reshape(2, 6)\n",
    "a_2 = a.reshape(3, 4)\n",
    "a_3 = a.reshape(4, 3)\n",
    "a_4 = a.reshape(6, 2)\n",
    "a_5 = a.reshape(12, 1)"
   ]
  },
  {
   "cell_type": "markdown",
   "metadata": {},
   "source": [
    "Создать 5 двумерных массивов разной формы из массива a. Использовать в аргументах метода reshape число -1 (в трех примерах - для обозначения числа столбцов, в двух - для строк)."
   ]
  },
  {
   "cell_type": "code",
   "execution_count": 4,
   "metadata": {},
   "outputs": [],
   "source": [
    "a_1 = a.reshape(2, -1)\n",
    "a_2 = a.reshape(-1, 4)\n",
    "a_3 = a.reshape(4, -1)\n",
    "a_4 = a.reshape(-1, 2)\n",
    "a_5 = a.reshape(12, -1)"
   ]
  },
  {
   "cell_type": "markdown",
   "metadata": {},
   "source": [
    "Можно ли массив Numpy, состоящий из одного столбца и 12 строк, назвать одномерным?"
   ]
  },
  {
   "cell_type": "code",
   "execution_count": 5,
   "metadata": {},
   "outputs": [
    {
     "name": "stdout",
     "output_type": "stream",
     "text": [
      "2-мерный массив\n"
     ]
    }
   ],
   "source": [
    "print(f\"{a.reshape(12, 1).ndim}-мерный массив\")"
   ]
  },
  {
   "cell_type": "markdown",
   "metadata": {},
   "source": [
    "Создать массив из 3 строк и 4 столбцов, состоящий из случайных чисел с плавающей запятой из нормального распределения со средним, равным 0 и среднеквадратичным отклонением, равным 1.0. Получить из этого массива одномерный массив с таким же атрибутом size, как и исходный массив."
   ]
  },
  {
   "cell_type": "code",
   "execution_count": 6,
   "metadata": {},
   "outputs": [
    {
     "name": "stdout",
     "output_type": "stream",
     "text": [
      "[[-1.38175825  0.05262722 -0.35357261 -0.19329675]\n",
      " [ 0.04362273 -1.09498626  1.03249507  1.5748565 ]\n",
      " [-1.19404435 -0.42188068  0.89792438 -0.18404051]]\n"
     ]
    }
   ],
   "source": [
    "a = np.random.randn(3, 4)\n",
    "print(a)"
   ]
  },
  {
   "cell_type": "code",
   "execution_count": 7,
   "metadata": {},
   "outputs": [
    {
     "name": "stdout",
     "output_type": "stream",
     "text": [
      "[-1.38175825  0.05262722 -0.35357261 -0.19329675  0.04362273 -1.09498626\n",
      "  1.03249507  1.5748565  -1.19404435 -0.42188068  0.89792438 -0.18404051]\n"
     ]
    }
   ],
   "source": [
    "b = a.flatten()\n",
    "print(b)"
   ]
  },
  {
   "cell_type": "code",
   "execution_count": 8,
   "metadata": {},
   "outputs": [
    {
     "data": {
      "text/plain": [
       "True"
      ]
     },
     "execution_count": 8,
     "metadata": {},
     "output_type": "execute_result"
    }
   ],
   "source": [
    "a.size == b.size"
   ]
  },
  {
   "cell_type": "markdown",
   "metadata": {},
   "source": [
    "Создать массив a, состоящий из целых чисел, убывающих от 20 до 0 невключительно с интервалом 2."
   ]
  },
  {
   "cell_type": "code",
   "execution_count": 9,
   "metadata": {},
   "outputs": [],
   "source": [
    "a = np.arange(20, 0, -2)"
   ]
  },
  {
   "cell_type": "markdown",
   "metadata": {},
   "source": [
    "Создать массив b, состоящий из 1 строки и 10 столбцов: целых чисел, убывающих от 20 до 1 невключительно с интервалом 2. В чем разница между массивами a и b?"
   ]
  },
  {
   "cell_type": "code",
   "execution_count": 10,
   "metadata": {},
   "outputs": [
    {
     "name": "stdout",
     "output_type": "stream",
     "text": [
      "Размерность массива a - 1\n",
      "Размерность массива b - 2\n"
     ]
    }
   ],
   "source": [
    "b = np.arange(20, 1, -2).reshape(1, 10)\n",
    "print(f\"Размерность массива a - {a.ndim}\")\n",
    "print(f\"Размерность массива b - {b.ndim}\")"
   ]
  },
  {
   "cell_type": "markdown",
   "metadata": {},
   "source": [
    "Вертикально соединить массивы a и b. a - двумерный массив из нулей, число строк которого больше 1 и на 1 меньше, чем число строк двумерного массива b, состоящего из единиц. Итоговый массив v должен иметь атрибут size, равный 10."
   ]
  },
  {
   "cell_type": "code",
   "execution_count": 11,
   "metadata": {},
   "outputs": [
    {
     "data": {
      "text/plain": [
       "10"
      ]
     },
     "execution_count": 11,
     "metadata": {},
     "output_type": "execute_result"
    }
   ],
   "source": [
    "a = np.zeros((2, 2))\n",
    "b = np.ones((3, 2))\n",
    "v = np.vstack((a, b))\n",
    "v.size"
   ]
  },
  {
   "cell_type": "markdown",
   "metadata": {},
   "source": [
    "Создать одномерный массив а, состоящий из последовательности целых чисел от 0 до 12. Поменять форму\n",
    "этого массива, чтобы получилась матрица A (двумерный массив Numpy), состоящая из 4 строк и 3 столбцов.\n",
    "Получить матрицу At путем транспонирования матрицы A. Получить матрицу B, умножив матрицу A на матрицу\n",
    "At с помощью матричного умножения. Какой размер имеет матрица B? Получится ли вычислить обратную\n",
    "матрицу для матрицы B и почему?"
   ]
  },
  {
   "cell_type": "code",
   "execution_count": 13,
   "metadata": {},
   "outputs": [
    {
     "name": "stdout",
     "output_type": "stream",
     "text": [
      "(4, 4)\n",
      "0.0\n"
     ]
    }
   ],
   "source": [
    "a = np.arange(0, 12)\n",
    "A = a.reshape(4, 3)\n",
    "At = A.transpose()\n",
    "B = A.dot(At)\n",
    "print(B.shape)\n",
    "print(np.linalg.det(B))"
   ]
  },
  {
   "cell_type": "code",
   "execution_count": 14,
   "metadata": {},
   "outputs": [
    {
     "name": "stdout",
     "output_type": "stream",
     "text": [
      "True\n"
     ]
    }
   ],
   "source": [
    "# вычислить обратную матрицу для матрицы B не представляется возможным, т.к. её определитель равен 0.\n",
    "# Это означает, что ранг матрицы B меньше числа её строк.\n",
    "print(np.linalg.matrix_rank(B) < B.shape[0])"
   ]
  },
  {
   "cell_type": "markdown",
   "metadata": {},
   "source": [
    "Инициализируйте генератор случайных числе с помощью объекта seed, равного 42."
   ]
  },
  {
   "cell_type": "code",
   "execution_count": 15,
   "metadata": {},
   "outputs": [],
   "source": [
    "a = np.random.seed(42)"
   ]
  },
  {
   "cell_type": "markdown",
   "metadata": {},
   "source": [
    "Создайте одномерный массив c, составленный из последовательности 16-ти случайных равномерно распределенных целых чисел от 0 до 16 невключительно."
   ]
  },
  {
   "cell_type": "code",
   "execution_count": 16,
   "metadata": {},
   "outputs": [],
   "source": [
    "c = np.linspace(0, 15, 16)"
   ]
  },
  {
   "cell_type": "markdown",
   "metadata": {},
   "source": [
    "Поменяйте его форму так, чтобы получилась квадратная матрица C. Получите матрицу D, поэлементно прибавив матрицу B из предыдущего вопроса к матрице C, умноженной на 10. Вычислите определитель, ранг и обратную матрицу D_inv для D."
   ]
  },
  {
   "cell_type": "code",
   "execution_count": 17,
   "metadata": {},
   "outputs": [],
   "source": [
    "C = c.reshape(4, 4)\n",
    "D = B + C * 10\n",
    "D_det = np.linalg.det(D)\n",
    "D_rank = np.linalg.matrix_rank(D)\n",
    "D_inv = np.linalg.inv(D)"
   ]
  },
  {
   "cell_type": "code",
   "execution_count": 18,
   "metadata": {},
   "outputs": [
    {
     "name": "stdout",
     "output_type": "stream",
     "text": [
      "Определитель матрицы D: 5.18953807259442e-26\n",
      "Ранк матрицы D: 2\n",
      "Обратная матрица D_inv:\n",
      " [[ 4.66062690e+13 -1.49229688e+13 -1.09972869e+14  7.82895692e+13]\n",
      " [ 1.63480451e+14 -3.81454387e+14  2.72467419e+14 -5.44934838e+13]\n",
      " [-4.66779710e+14  8.07677680e+14 -2.15016230e+14 -1.25881740e+14]\n",
      " [ 2.56692989e+14 -4.11300324e+14  5.25216801e+13  1.02085655e+14]]\n"
     ]
    }
   ],
   "source": [
    "print(f'Определитель матрицы D: {D_det}')\n",
    "print(f'Ранк матрицы D: {D_rank}')\n",
    "print(f'Обратная матрица D_inv:\\n {D_inv}')"
   ]
  },
  {
   "cell_type": "markdown",
   "metadata": {},
   "source": [
    "Приравняйте к нулю отрицательные числа в матрице D_inv, а положительные - к единице. Убедитесь, что в матрице D_inv остались только нули и единицы. С помощью функции numpy.where, используя матрицу D_inv в качестве маски, а матрицы B и C - в качестве источников данных, получите матрицу E размером 4x4. Элементы матрицы E, для которых соответствующий элемент матрицы D_inv равен 1, должны быть равны соответствующему элементу матрицы B, а элементы матрицы E, для которых соответствующий элемент матрицы D_inv равен 0, должны быть равны соответствующему элементу матрицы C."
   ]
  },
  {
   "cell_type": "code",
   "execution_count": 19,
   "metadata": {},
   "outputs": [],
   "source": [
    "D_inv[D_inv < 0] = 0\n",
    "D_inv[D_inv > 0] = 1"
   ]
  },
  {
   "cell_type": "code",
   "execution_count": 20,
   "metadata": {},
   "outputs": [
    {
     "name": "stdout",
     "output_type": "stream",
     "text": [
      "[[1. 0. 0. 1.]\n",
      " [1. 0. 1. 0.]\n",
      " [0. 1. 0. 0.]\n",
      " [1. 0. 1. 1.]]\n"
     ]
    }
   ],
   "source": [
    "print(D_inv)"
   ]
  },
  {
   "cell_type": "code",
   "execution_count": 21,
   "metadata": {},
   "outputs": [],
   "source": [
    "E = np.where(D_inv == 1, B, C)"
   ]
  },
  {
   "cell_type": "code",
   "execution_count": 22,
   "metadata": {},
   "outputs": [
    {
     "name": "stdout",
     "output_type": "stream",
     "text": [
      "[[  5.   1.   2.  32.]\n",
      " [ 14.   5.  86.   7.]\n",
      " [  8.  86.  10.  11.]\n",
      " [ 32.  13. 212. 302.]]\n"
     ]
    }
   ],
   "source": [
    "print(E)"
   ]
  }
 ],
 "metadata": {
  "kernelspec": {
   "display_name": "Python 3",
   "language": "python",
   "name": "python3"
  },
  "language_info": {
   "codemirror_mode": {
    "name": "ipython",
    "version": 3
   },
   "file_extension": ".py",
   "mimetype": "text/x-python",
   "name": "python",
   "nbconvert_exporter": "python",
   "pygments_lexer": "ipython3",
   "version": "3.7.6"
  }
 },
 "nbformat": 4,
 "nbformat_minor": 4
}
